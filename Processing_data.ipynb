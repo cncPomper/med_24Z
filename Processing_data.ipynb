{
 "cells": [
  {
   "cell_type": "code",
   "execution_count": 38,
   "id": "dc78c24f-4572-407d-86cb-972d24bb4335",
   "metadata": {},
   "outputs": [],
   "source": [
    "from ucimlrepo import fetch_ucirepo\n",
    "import pandas as pd\n",
    "from time import time\n",
    "import numpy as np\n",
    "import matplotlib.pyplot as plt"
   ]
  },
  {
   "cell_type": "code",
   "execution_count": 3,
   "id": "d5125a88-b2cd-4254-956f-7d0dc0e8ce54",
   "metadata": {},
   "outputs": [],
   "source": [
    "# fetch dataset\n",
    "online_retail = fetch_ucirepo(id=352)"
   ]
  },
  {
   "cell_type": "code",
   "execution_count": 5,
   "id": "a014fc19-fee1-4b16-a11c-6d8030cacd03",
   "metadata": {},
   "outputs": [],
   "source": [
    "df_old = pd.DataFrame(online_retail.data.original)"
   ]
  },
  {
   "cell_type": "code",
   "execution_count": 59,
   "id": "20570abc-7cc6-4716-835b-57faa5ef358f",
   "metadata": {},
   "outputs": [
    {
     "data": {
      "text/plain": [
       "count     541909\n",
       "unique      4070\n",
       "top       85123A\n",
       "freq        2313\n",
       "Name: StockCode, dtype: object"
      ]
     },
     "execution_count": 59,
     "metadata": {},
     "output_type": "execute_result"
    }
   ],
   "source": [
    "df_old.StockCode.describe()"
   ]
  },
  {
   "cell_type": "code",
   "execution_count": 14,
   "id": "24f39973-f89d-418a-90ed-5daa99bfee14",
   "metadata": {},
   "outputs": [
    {
     "data": {
      "text/plain": [
       "np.int64(0)"
      ]
     },
     "execution_count": 14,
     "metadata": {},
     "output_type": "execute_result"
    }
   ],
   "source": [
    "df_old.Description.isnull().values.sum()"
   ]
  },
  {
   "cell_type": "code",
   "execution_count": 15,
   "id": "897a080f-81bd-445d-a33f-decdcdcdc94a",
   "metadata": {},
   "outputs": [],
   "source": [
    "df_old.Description = df_old.Description.fillna(\"other\")"
   ]
  },
  {
   "cell_type": "code",
   "execution_count": 16,
   "id": "21a1e786-8766-44e0-b08c-7ba2d385c5b8",
   "metadata": {},
   "outputs": [
    {
     "data": {
      "text/plain": [
       "array(['85123A', '71053', '84406B', ..., '90214U', '47591b', '23843'],\n",
       "      shape=(4070,), dtype=object)"
      ]
     },
     "execution_count": 16,
     "metadata": {},
     "output_type": "execute_result"
    }
   ],
   "source": [
    "df_old.StockCode.unique()"
   ]
  },
  {
   "cell_type": "code",
   "execution_count": 17,
   "id": "ced7d354-0a1e-442e-aeb2-974621e65c5d",
   "metadata": {
    "scrolled": true
   },
   "outputs": [
    {
     "data": {
      "text/plain": [
       "array(['85123A', '71053', '84406B', '84029G', '84029E', '22752', '21730',\n",
       "       '22633', '22632', '84879', '22745', '22748', '22749', '22310',\n",
       "       '84969', '22623', '22622', '21754', '21755', '21777', '48187',\n",
       "       '22960', '22913', '22912', '22914', '21756', '22728', '22727',\n",
       "       '22726', '21724', '21883', '10002', '21791', '21035', '22326',\n",
       "       '22629', '22659', '22631', '22661', '21731', '22900', '21913',\n",
       "       '22540', '22544', '22492', 'POST', '22086', '20679', '37370',\n",
       "       '21871', '21071', '21068', '82483', '82486', '82482', '82494L',\n",
       "       '21258', '22114', '21733', '22386', '85099C', '21033', '20723',\n",
       "       '84997B', '84997C', '21094', '20725', '21559', '22352', '21212',\n",
       "       '21975', '21977', '84991', '84519A', '85183B', '85071B', '21931',\n",
       "       '21929', '22961', '22139', '84854', '22411', '82567', '21672',\n",
       "       '22774', '22771', '71270', '22262', '22637', '21934', '21169',\n",
       "       '21166', '21175', '37444A', '37444C', '22083', '84971S', '47580',\n",
       "       '22261', '84832'], dtype=object)"
      ]
     },
     "execution_count": 17,
     "metadata": {},
     "output_type": "execute_result"
    }
   ],
   "source": [
    "df_old.StockCode.unique()[:100]"
   ]
  },
  {
   "cell_type": "code",
   "execution_count": 31,
   "id": "fb5776d3-7e81-485f-84d3-df395f50b7d2",
   "metadata": {},
   "outputs": [],
   "source": [
    "# df_new = df_old[df_old.StockCode.isin(df_old.StockCode.unique()[:100])]\n",
    "df_new = df_old"
   ]
  },
  {
   "cell_type": "code",
   "execution_count": 21,
   "id": "bb5cac21-2612-46aa-b7d7-70386c8bd829",
   "metadata": {},
   "outputs": [
    {
     "data": {
      "text/plain": [
       "array(['22633', '22632'], dtype=object)"
      ]
     },
     "execution_count": 21,
     "metadata": {},
     "output_type": "execute_result"
    }
   ],
   "source": [
    "df_old[df_old.InvoiceNo == '536366'].StockCode.values"
   ]
  },
  {
   "cell_type": "code",
   "execution_count": 50,
   "id": "853c9c4e-cd67-4e8d-b68d-6938451fc2ca",
   "metadata": {},
   "outputs": [
    {
     "data": {
      "text/html": [
       "<div>\n",
       "<style scoped>\n",
       "    .dataframe tbody tr th:only-of-type {\n",
       "        vertical-align: middle;\n",
       "    }\n",
       "\n",
       "    .dataframe tbody tr th {\n",
       "        vertical-align: top;\n",
       "    }\n",
       "\n",
       "    .dataframe thead th {\n",
       "        text-align: right;\n",
       "    }\n",
       "</style>\n",
       "<table border=\"1\" class=\"dataframe\">\n",
       "  <thead>\n",
       "    <tr style=\"text-align: right;\">\n",
       "      <th></th>\n",
       "      <th>InvoiceNo</th>\n",
       "      <th>StockCode</th>\n",
       "      <th>Description</th>\n",
       "      <th>Quantity</th>\n",
       "      <th>InvoiceDate</th>\n",
       "      <th>UnitPrice</th>\n",
       "      <th>CustomerID</th>\n",
       "      <th>Country</th>\n",
       "    </tr>\n",
       "  </thead>\n",
       "  <tbody>\n",
       "    <tr>\n",
       "      <th>0</th>\n",
       "      <td>536365</td>\n",
       "      <td>85123A</td>\n",
       "      <td>WHITE HANGING HEART T-LIGHT HOLDER</td>\n",
       "      <td>6</td>\n",
       "      <td>12/1/2010 8:26</td>\n",
       "      <td>2.55</td>\n",
       "      <td>17850.0</td>\n",
       "      <td>United Kingdom</td>\n",
       "    </tr>\n",
       "    <tr>\n",
       "      <th>1</th>\n",
       "      <td>536365</td>\n",
       "      <td>71053</td>\n",
       "      <td>WHITE METAL LANTERN</td>\n",
       "      <td>6</td>\n",
       "      <td>12/1/2010 8:26</td>\n",
       "      <td>3.39</td>\n",
       "      <td>17850.0</td>\n",
       "      <td>United Kingdom</td>\n",
       "    </tr>\n",
       "    <tr>\n",
       "      <th>2</th>\n",
       "      <td>536365</td>\n",
       "      <td>84406B</td>\n",
       "      <td>CREAM CUPID HEARTS COAT HANGER</td>\n",
       "      <td>8</td>\n",
       "      <td>12/1/2010 8:26</td>\n",
       "      <td>2.75</td>\n",
       "      <td>17850.0</td>\n",
       "      <td>United Kingdom</td>\n",
       "    </tr>\n",
       "    <tr>\n",
       "      <th>3</th>\n",
       "      <td>536365</td>\n",
       "      <td>84029G</td>\n",
       "      <td>KNITTED UNION FLAG HOT WATER BOTTLE</td>\n",
       "      <td>6</td>\n",
       "      <td>12/1/2010 8:26</td>\n",
       "      <td>3.39</td>\n",
       "      <td>17850.0</td>\n",
       "      <td>United Kingdom</td>\n",
       "    </tr>\n",
       "    <tr>\n",
       "      <th>4</th>\n",
       "      <td>536365</td>\n",
       "      <td>84029E</td>\n",
       "      <td>RED WOOLLY HOTTIE WHITE HEART.</td>\n",
       "      <td>6</td>\n",
       "      <td>12/1/2010 8:26</td>\n",
       "      <td>3.39</td>\n",
       "      <td>17850.0</td>\n",
       "      <td>United Kingdom</td>\n",
       "    </tr>\n",
       "    <tr>\n",
       "      <th>...</th>\n",
       "      <td>...</td>\n",
       "      <td>...</td>\n",
       "      <td>...</td>\n",
       "      <td>...</td>\n",
       "      <td>...</td>\n",
       "      <td>...</td>\n",
       "      <td>...</td>\n",
       "      <td>...</td>\n",
       "    </tr>\n",
       "    <tr>\n",
       "      <th>541904</th>\n",
       "      <td>581587</td>\n",
       "      <td>22613</td>\n",
       "      <td>PACK OF 20 SPACEBOY NAPKINS</td>\n",
       "      <td>12</td>\n",
       "      <td>12/9/2011 12:50</td>\n",
       "      <td>0.85</td>\n",
       "      <td>12680.0</td>\n",
       "      <td>France</td>\n",
       "    </tr>\n",
       "    <tr>\n",
       "      <th>541905</th>\n",
       "      <td>581587</td>\n",
       "      <td>22899</td>\n",
       "      <td>CHILDREN'S APRON DOLLY GIRL</td>\n",
       "      <td>6</td>\n",
       "      <td>12/9/2011 12:50</td>\n",
       "      <td>2.10</td>\n",
       "      <td>12680.0</td>\n",
       "      <td>France</td>\n",
       "    </tr>\n",
       "    <tr>\n",
       "      <th>541906</th>\n",
       "      <td>581587</td>\n",
       "      <td>23254</td>\n",
       "      <td>CHILDRENS CUTLERY DOLLY GIRL</td>\n",
       "      <td>4</td>\n",
       "      <td>12/9/2011 12:50</td>\n",
       "      <td>4.15</td>\n",
       "      <td>12680.0</td>\n",
       "      <td>France</td>\n",
       "    </tr>\n",
       "    <tr>\n",
       "      <th>541907</th>\n",
       "      <td>581587</td>\n",
       "      <td>23255</td>\n",
       "      <td>CHILDRENS CUTLERY CIRCUS PARADE</td>\n",
       "      <td>4</td>\n",
       "      <td>12/9/2011 12:50</td>\n",
       "      <td>4.15</td>\n",
       "      <td>12680.0</td>\n",
       "      <td>France</td>\n",
       "    </tr>\n",
       "    <tr>\n",
       "      <th>541908</th>\n",
       "      <td>581587</td>\n",
       "      <td>22138</td>\n",
       "      <td>BAKING SET 9 PIECE RETROSPOT</td>\n",
       "      <td>3</td>\n",
       "      <td>12/9/2011 12:50</td>\n",
       "      <td>4.95</td>\n",
       "      <td>12680.0</td>\n",
       "      <td>France</td>\n",
       "    </tr>\n",
       "  </tbody>\n",
       "</table>\n",
       "<p>541909 rows × 8 columns</p>\n",
       "</div>"
      ],
      "text/plain": [
       "       InvoiceNo StockCode                          Description  Quantity  \\\n",
       "0         536365    85123A   WHITE HANGING HEART T-LIGHT HOLDER         6   \n",
       "1         536365     71053                  WHITE METAL LANTERN         6   \n",
       "2         536365    84406B       CREAM CUPID HEARTS COAT HANGER         8   \n",
       "3         536365    84029G  KNITTED UNION FLAG HOT WATER BOTTLE         6   \n",
       "4         536365    84029E       RED WOOLLY HOTTIE WHITE HEART.         6   \n",
       "...          ...       ...                                  ...       ...   \n",
       "541904    581587     22613          PACK OF 20 SPACEBOY NAPKINS        12   \n",
       "541905    581587     22899         CHILDREN'S APRON DOLLY GIRL          6   \n",
       "541906    581587     23254        CHILDRENS CUTLERY DOLLY GIRL          4   \n",
       "541907    581587     23255      CHILDRENS CUTLERY CIRCUS PARADE         4   \n",
       "541908    581587     22138        BAKING SET 9 PIECE RETROSPOT          3   \n",
       "\n",
       "            InvoiceDate  UnitPrice  CustomerID         Country  \n",
       "0        12/1/2010 8:26       2.55     17850.0  United Kingdom  \n",
       "1        12/1/2010 8:26       3.39     17850.0  United Kingdom  \n",
       "2        12/1/2010 8:26       2.75     17850.0  United Kingdom  \n",
       "3        12/1/2010 8:26       3.39     17850.0  United Kingdom  \n",
       "4        12/1/2010 8:26       3.39     17850.0  United Kingdom  \n",
       "...                 ...        ...         ...             ...  \n",
       "541904  12/9/2011 12:50       0.85     12680.0          France  \n",
       "541905  12/9/2011 12:50       2.10     12680.0          France  \n",
       "541906  12/9/2011 12:50       4.15     12680.0          France  \n",
       "541907  12/9/2011 12:50       4.15     12680.0          France  \n",
       "541908  12/9/2011 12:50       4.95     12680.0          France  \n",
       "\n",
       "[541909 rows x 8 columns]"
      ]
     },
     "execution_count": 50,
     "metadata": {},
     "output_type": "execute_result"
    }
   ],
   "source": [
    "df_old"
   ]
  },
  {
   "cell_type": "code",
   "execution_count": 32,
   "id": "3459cd8a-7209-4b8b-a35e-7ae64655ab55",
   "metadata": {},
   "outputs": [
    {
     "name": "stdout",
     "output_type": "stream",
     "text": [
      "CPU times: user 9min 45s, sys: 66.7 ms, total: 9min 45s\n",
      "Wall time: 9min 45s\n"
     ]
    }
   ],
   "source": [
    "%%time\n",
    "\n",
    "transactions = []\n",
    "\n",
    "for idx in df_new.InvoiceNo.unique():\n",
    "    if len(df_new[df_new.InvoiceNo == idx].Description.values) > 50:\n",
    "        transaction = df_new[df_new.InvoiceNo == idx].Description.values\n",
    "        transactions.append(transaction)"
   ]
  },
  {
   "cell_type": "code",
   "execution_count": 33,
   "id": "8daba501-6950-4d88-8b4c-9f13e2e59938",
   "metadata": {},
   "outputs": [],
   "source": [
    "with open('transcations_names_all_min50.npy', 'wb') as f:\n",
    "    np.save(f, np.asarray(transactions, dtype=\"object\"), allow_pickle=True)"
   ]
  },
  {
   "cell_type": "code",
   "execution_count": 56,
   "id": "459f7f36-60df-442d-ba3c-9ea69b89ee13",
   "metadata": {},
   "outputs": [
    {
     "data": {
      "text/plain": [
       "2256"
      ]
     },
     "execution_count": 56,
     "metadata": {},
     "output_type": "execute_result"
    }
   ],
   "source": [
    "with open('data/transcations_names_all_min50.npy', 'rb') as f:\n",
    "    df = np.load(f, allow_pickle=True)\n",
    "\n",
    "len(df)"
   ]
  },
  {
   "cell_type": "code",
   "execution_count": null,
   "id": "a2104625-132c-4561-b560-bdf2ef6560d4",
   "metadata": {},
   "outputs": [],
   "source": [
    "# python main.py -f \"data/transcations.npy\" -s 0.5 -c 0.5\n",
    "# python main.py -f \"data/transcations.npy\" -s 0.05 -c 0.05\n",
    "# s = [189.21, 167.74]"
   ]
  },
  {
   "cell_type": "code",
   "execution_count": 60,
   "id": "2950f4d7-5ae2-40d9-9fa7-d2521023aa7b",
   "metadata": {},
   "outputs": [],
   "source": [
    "import csv\n",
    "\n",
    "with open('data/transcations.csv', 'w', newline='') as file:\n",
    "    writer = csv.writer(file)\n",
    "    for idx in df_old.InvoiceNo.unique():\n",
    "        transaction = df_old[df_old.InvoiceNo == idx].Description.values\n",
    "        \n",
    "    \n",
    "        writer.writerow(transaction)"
   ]
  },
  {
   "cell_type": "code",
   "execution_count": null,
   "id": "4baa4a21-05d7-4be3-922d-f151bb54e486",
   "metadata": {},
   "outputs": [],
   "source": []
  }
 ],
 "metadata": {
  "kernelspec": {
   "display_name": "Python 3 (ipykernel)",
   "language": "python",
   "name": "python3"
  },
  "language_info": {
   "codemirror_mode": {
    "name": "ipython",
    "version": 3
   },
   "file_extension": ".py",
   "mimetype": "text/x-python",
   "name": "python",
   "nbconvert_exporter": "python",
   "pygments_lexer": "ipython3",
   "version": "3.10.12"
  }
 },
 "nbformat": 4,
 "nbformat_minor": 5
}
